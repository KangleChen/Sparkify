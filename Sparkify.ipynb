{
 "cells": [
  {
   "cell_type": "markdown",
   "metadata": {},
   "source": [
    "# 1. Sparkify Project Workspace\n",
    "\n",
    "This is done based on the analysis with Pandas. So some detailed steps are ommited here."
   ]
  },
  {
   "cell_type": "code",
   "execution_count": 1,
   "metadata": {},
   "outputs": [],
   "source": [
    "# import libraries\n",
    "import pandas as pd\n",
    "import numpy as np\n",
    "import matplotlib.pyplot as plt \n",
    "% matplotlib inline\n",
    "import seaborn as sns\n",
    "\n",
    "import pyspark\n",
    "from pyspark import SparkConf, SparkContext\n",
    "from pyspark.sql import SparkSession\n",
    "from pyspark.sql import Row\n",
    "from pyspark.sql.functions import udf\n",
    "from pyspark.sql.types import *\n",
    "from pyspark.sql import functions as F\n",
    "\n",
    "import datetime"
   ]
  },
  {
   "cell_type": "code",
   "execution_count": 2,
   "metadata": {},
   "outputs": [
    {
     "data": {
      "text/plain": [
       "[('spark.master', 'local'),\n",
       " ('spark.app.id', 'local-1614466796548'),\n",
       " ('spark.app.name', 'sparkify'),\n",
       " ('spark.driver.port', '33655'),\n",
       " ('spark.rdd.compress', 'True'),\n",
       " ('spark.serializer.objectStreamReset', '100'),\n",
       " ('spark.driver.host', 'e8b259294fcb'),\n",
       " ('spark.executor.id', 'driver'),\n",
       " ('spark.submit.deployMode', 'client'),\n",
       " ('spark.ui.showConsoleProgress', 'true')]"
      ]
     },
     "execution_count": 2,
     "metadata": {},
     "output_type": "execute_result"
    }
   ],
   "source": [
    "# create a Spark session\n",
    "configure = SparkConf().setAppName(\"sparkify\").setMaster(\"local\")\n",
    "sc = SparkContext(conf = configure)\n",
    "spark = SparkSession.builder.appName('sparkify').getOrCreate()\n",
    "spark.sparkContext.getConf().getAll()"
   ]
  },
  {
   "cell_type": "markdown",
   "metadata": {},
   "source": [
    "# 2. Load and Clean Dataset\n",
    "In this workspace, the mini-dataset file is `mini_sparkify_event_data.json`. Load and clean the dataset, checking for invalid or missing data - for example, records without userids or sessionids. "
   ]
  },
  {
   "cell_type": "code",
   "execution_count": 3,
   "metadata": {},
   "outputs": [
    {
     "data": {
      "text/plain": [
       "[Row(artist='Martha Tilston', auth='Logged In', firstName='Colin', gender='M', itemInSession=50, lastName='Freeman', length=277.89016, level='paid', location='Bakersfield, CA', method='PUT', page='NextSong', registration=1538173362000, sessionId=29, song='Rockpools', status=200, ts=1538352117000, userAgent='Mozilla/5.0 (Windows NT 6.1; WOW64; rv:31.0) Gecko/20100101 Firefox/31.0', userId='30')]"
      ]
     },
     "execution_count": 3,
     "metadata": {},
     "output_type": "execute_result"
    }
   ],
   "source": [
    "path = 'mini_sparkify_event_data.json'\n",
    "df_total = spark.read.json(path)\n",
    "df_total.take(1)"
   ]
  },
  {
   "cell_type": "code",
   "execution_count": 4,
   "metadata": {},
   "outputs": [],
   "source": [
    "df_total_backup = df_total"
   ]
  },
  {
   "cell_type": "markdown",
   "metadata": {},
   "source": [
    "## 2.1 Remove undesired columns"
   ]
  },
  {
   "cell_type": "markdown",
   "metadata": {},
   "source": [
    "Following columns are removed:\n",
    "\n",
    "- **`artist`**, **`song`** and **`location`**\n",
    "\n",
    "    The behaviour of a R&B fan and a classic music lover can certainly be different. But considering this variance requirs a    database with labeled artists and songs, which is beyond the scope of this project. \n",
    "\n",
    "    Similarly, user from different locations may also behaviour differenetly related with for example the local personal income level. This feature is also left for investigation in future.  \n",
    "    \n",
    "\n",
    "- **`firstName`** and **`lastName`**\n",
    "\n",
    "    They are not related with user behaviour.\n",
    "    \n",
    "\n",
    "- **`itemInSession`**, **`method`**, **`sessionId`**, **`status`**\n",
    "\n",
    "    These parameters are simply technical parameters. They are not related with user behaviour."
   ]
  },
  {
   "cell_type": "code",
   "execution_count": 5,
   "metadata": {},
   "outputs": [],
   "source": [
    "df_total = df_total.drop('artist','song','location','firstName','lastName','itemInSession','method','sessionId','status')"
   ]
  },
  {
   "cell_type": "code",
   "execution_count": 6,
   "metadata": {},
   "outputs": [
    {
     "data": {
      "text/plain": [
       "[Row(auth='Logged In', gender='M', length=277.89016, level='paid', page='NextSong', registration=1538173362000, ts=1538352117000, userAgent='Mozilla/5.0 (Windows NT 6.1; WOW64; rv:31.0) Gecko/20100101 Firefox/31.0', userId='30')]"
      ]
     },
     "execution_count": 6,
     "metadata": {},
     "output_type": "execute_result"
    }
   ],
   "source": [
    "df_total.take(1)"
   ]
  },
  {
   "cell_type": "markdown",
   "metadata": {},
   "source": [
    "## 2.2 Understanding and clean the data "
   ]
  },
  {
   "cell_type": "markdown",
   "metadata": {},
   "source": [
    "### 2.2.1 Overview"
   ]
  },
  {
   "cell_type": "code",
   "execution_count": 7,
   "metadata": {},
   "outputs": [
    {
     "name": "stdout",
     "output_type": "stream",
     "text": [
      "root\n",
      " |-- auth: string (nullable = true)\n",
      " |-- gender: string (nullable = true)\n",
      " |-- length: double (nullable = true)\n",
      " |-- level: string (nullable = true)\n",
      " |-- page: string (nullable = true)\n",
      " |-- registration: long (nullable = true)\n",
      " |-- ts: long (nullable = true)\n",
      " |-- userAgent: string (nullable = true)\n",
      " |-- userId: string (nullable = true)\n",
      "\n"
     ]
    }
   ],
   "source": [
    "df_total.printSchema()"
   ]
  },
  {
   "cell_type": "code",
   "execution_count": 8,
   "metadata": {},
   "outputs": [
    {
     "data": {
      "text/plain": [
       "[Row(summary='count', auth='286500', gender='278154', length='228108', level='286500', page='286500', registration='278154', ts='286500', userAgent='278154', userId='286500'),\n",
       " Row(summary='mean', auth=None, gender=None, length='249.1171819778458', level=None, page=None, registration='1.5353588340844272E12', ts='1.5409568898104834E12', userAgent=None, userId='59682.02278593872'),\n",
       " Row(summary='stddev', auth=None, gender=None, length='99.23517921058361', level=None, page=None, registration='3.291321616327586E9', ts='1.5075439608226302E9', userAgent=None, userId='109091.9499991047'),\n",
       " Row(summary='min', auth='Cancelled', gender='F', length='0.78322', level='free', page='About', registration='1521380675000', ts='1538352117000', userAgent='\"Mozilla/5.0 (Macintosh; Intel Mac OS X 10_10) AppleWebKit/600.1.3 (KHTML, like Gecko) Version/8.0 Safari/600.1.3\"', userId=''),\n",
       " Row(summary='max', auth='Logged Out', gender='M', length='3024.66567', level='paid', page='Upgrade', registration='1543247354000', ts='1543799476000', userAgent='Mozilla/5.0 (compatible; MSIE 9.0; Windows NT 6.1; WOW64; Trident/5.0)', userId='99')]"
      ]
     },
     "execution_count": 8,
     "metadata": {},
     "output_type": "execute_result"
    }
   ],
   "source": [
    "df_total.describe().collect()"
   ]
  },
  {
   "cell_type": "code",
   "execution_count": 9,
   "metadata": {},
   "outputs": [
    {
     "name": "stdout",
     "output_type": "stream",
     "text": [
      "8346\n",
      "58392\n",
      "8346\n",
      "8346\n"
     ]
    }
   ],
   "source": [
    "print(df_total.where(df_total.gender.isNull()).count())\n",
    "print(df_total.where(df_total.length.isNull()).count())\n",
    "print(df_total.where(df_total.registration.isNull()).count())\n",
    "print(df_total.where(df_total.userAgent.isNull()).count())"
   ]
  },
  {
   "cell_type": "markdown",
   "metadata": {},
   "source": [
    "They are all referring to unregistered users, see the results below."
   ]
  },
  {
   "cell_type": "code",
   "execution_count": 10,
   "metadata": {},
   "outputs": [
    {
     "data": {
      "text/plain": [
       "8346"
      ]
     },
     "execution_count": 10,
     "metadata": {},
     "output_type": "execute_result"
    }
   ],
   "source": [
    "df_total[df_total.userId == ''].count()"
   ]
  },
  {
   "cell_type": "markdown",
   "metadata": {},
   "source": [
    "Those columns are removed. Statistics of the dataframe with remaining columns is shown below:"
   ]
  },
  {
   "cell_type": "code",
   "execution_count": 11,
   "metadata": {},
   "outputs": [],
   "source": [
    "df_total = df_total[df_total.userId != '']"
   ]
  },
  {
   "cell_type": "markdown",
   "metadata": {},
   "source": [
    "### 2.2.3 Clean Column `auth`"
   ]
  },
  {
   "cell_type": "markdown",
   "metadata": {},
   "source": [
    "Unique values of `auth`:"
   ]
  },
  {
   "cell_type": "code",
   "execution_count": 12,
   "metadata": {},
   "outputs": [],
   "source": [
    "df_total = df_total.drop('auth')"
   ]
  },
  {
   "cell_type": "markdown",
   "metadata": {},
   "source": [
    "### 2.2.4. Column `gender`"
   ]
  },
  {
   "cell_type": "code",
   "execution_count": 13,
   "metadata": {},
   "outputs": [
    {
     "data": {
      "text/plain": [
       "[Row(gender='F'), Row(gender='M')]"
      ]
     },
     "execution_count": 13,
     "metadata": {},
     "output_type": "execute_result"
    }
   ],
   "source": [
    "# check against null \n",
    "df_total.select('gender').distinct().collect()"
   ]
  },
  {
   "cell_type": "markdown",
   "metadata": {},
   "source": [
    "There is no empty value. It will be transformed to numeric value using OneHotEnconder later."
   ]
  },
  {
   "cell_type": "markdown",
   "metadata": {},
   "source": [
    "### 2.2.5 Clean Column `length`"
   ]
  },
  {
   "cell_type": "markdown",
   "metadata": {},
   "source": [
    "When not visiting page 'Next song', the value `length` is null. These nulls are as expected, so they are \"right\" nulls, and do not require removing or imputing. "
   ]
  },
  {
   "cell_type": "code",
   "execution_count": 14,
   "metadata": {},
   "outputs": [
    {
     "name": "stdout",
     "output_type": "stream",
     "text": [
      "+--------------------+-----+\n",
      "|                page|count|\n",
      "+--------------------+-----+\n",
      "|              Cancel|   52|\n",
      "|    Submit Downgrade|   63|\n",
      "|         Thumbs Down| 2546|\n",
      "|                Home|10082|\n",
      "|           Downgrade| 2055|\n",
      "|         Roll Advert| 3933|\n",
      "|              Logout| 3226|\n",
      "|       Save Settings|  310|\n",
      "|Cancellation Conf...|   52|\n",
      "|               About|  495|\n",
      "|            Settings| 1514|\n",
      "|     Add to Playlist| 6526|\n",
      "|          Add Friend| 4277|\n",
      "|           Thumbs Up|12551|\n",
      "|                Help| 1454|\n",
      "|             Upgrade|  499|\n",
      "|               Error|  252|\n",
      "|      Submit Upgrade|  159|\n",
      "+--------------------+-----+\n",
      "\n"
     ]
    }
   ],
   "source": [
    "df_total.select('length','page').where(df_total.length.isNull()).groupBy('page').count().show()"
   ]
  },
  {
   "cell_type": "markdown",
   "metadata": {},
   "source": [
    "### 2.2.6 Clean Column `level`"
   ]
  },
  {
   "cell_type": "code",
   "execution_count": 15,
   "metadata": {},
   "outputs": [
    {
     "data": {
      "text/plain": [
       "0"
      ]
     },
     "execution_count": 15,
     "metadata": {},
     "output_type": "execute_result"
    }
   ],
   "source": [
    "# check against null\n",
    "df_total.where(df_total.level.isNull()).count()"
   ]
  },
  {
   "cell_type": "markdown",
   "metadata": {},
   "source": [
    "This column has no nulls now. It is used to generate the UBC."
   ]
  },
  {
   "cell_type": "markdown",
   "metadata": {},
   "source": [
    "### 2.2.7 Clean column `page`"
   ]
  },
  {
   "cell_type": "markdown",
   "metadata": {},
   "source": [
    "Unique values:"
   ]
  },
  {
   "cell_type": "code",
   "execution_count": 16,
   "metadata": {
    "scrolled": true
   },
   "outputs": [
    {
     "data": {
      "text/plain": [
       "['Cancel',\n",
       " 'Submit Downgrade',\n",
       " 'Thumbs Down',\n",
       " 'Home',\n",
       " 'Downgrade',\n",
       " 'Roll Advert',\n",
       " 'Logout',\n",
       " 'Save Settings',\n",
       " 'Cancellation Confirmation',\n",
       " 'About',\n",
       " 'Settings',\n",
       " 'Add to Playlist',\n",
       " 'Add Friend',\n",
       " 'NextSong',\n",
       " 'Thumbs Up',\n",
       " 'Help',\n",
       " 'Upgrade',\n",
       " 'Error',\n",
       " 'Submit Upgrade']"
      ]
     },
     "execution_count": 16,
     "metadata": {},
     "output_type": "execute_result"
    }
   ],
   "source": [
    "list(df_total.select('page').distinct().toPandas().page.values)"
   ]
  },
  {
   "cell_type": "markdown",
   "metadata": {},
   "source": [
    "### 2.2.8 clean column `registration`, 2.2.9 clean column `ts`"
   ]
  },
  {
   "cell_type": "markdown",
   "metadata": {},
   "source": [
    "I leave these two columns as they are to save computation cost. After all, I only care about the difference. "
   ]
  },
  {
   "cell_type": "markdown",
   "metadata": {},
   "source": [
    "### 2.2.10 clean column `userAgent`"
   ]
  },
  {
   "cell_type": "markdown",
   "metadata": {},
   "source": [
    "I devide the values into three groups:\n",
    "\n",
    "- when it contains 'Windows', then it is category w\n",
    "- when it contains 'Linux', then it is category l\n",
    "- the rest are category m (ios, mac etc.)\n",
    "\n",
    "For this purpose, a function is defined: "
   ]
  },
  {
   "cell_type": "code",
   "execution_count": 17,
   "metadata": {},
   "outputs": [],
   "source": [
    "function = udf(lambda x: 'w' if 'Windows' in x else 'l' if 'Linux' in x else 'm')"
   ]
  },
  {
   "cell_type": "code",
   "execution_count": 18,
   "metadata": {},
   "outputs": [],
   "source": [
    "df_total = df_total.withColumn('userAgentNew', function('userAgent'))"
   ]
  },
  {
   "cell_type": "code",
   "execution_count": 19,
   "metadata": {},
   "outputs": [
    {
     "name": "stdout",
     "output_type": "stream",
     "text": [
      "+------+---------+-----+--------+-------------+-------------+--------------------+------+------------+\n",
      "|gender|   length|level|    page| registration|           ts|           userAgent|userId|userAgentNew|\n",
      "+------+---------+-----+--------+-------------+-------------+--------------------+------+------------+\n",
      "|     M|277.89016| paid|NextSong|1538173362000|1538352117000|Mozilla/5.0 (Wind...|    30|           w|\n",
      "+------+---------+-----+--------+-------------+-------------+--------------------+------+------------+\n",
      "only showing top 1 row\n",
      "\n"
     ]
    }
   ],
   "source": [
    "df_total.show(1)"
   ]
  },
  {
   "cell_type": "code",
   "execution_count": 20,
   "metadata": {},
   "outputs": [
    {
     "name": "stdout",
     "output_type": "stream",
     "text": [
      "+------------+\n",
      "|userAgentNew|\n",
      "+------------+\n",
      "|           l|\n",
      "|           m|\n",
      "|           w|\n",
      "+------------+\n",
      "\n"
     ]
    }
   ],
   "source": [
    "df_total = df_total.drop('userAgent')\n",
    "df_total.select('userAgentNew').distinct().show()"
   ]
  },
  {
   "cell_type": "markdown",
   "metadata": {},
   "source": [
    "### 2.2.11 clean column `userId`"
   ]
  },
  {
   "cell_type": "markdown",
   "metadata": {},
   "source": [
    "Nothing need to be done."
   ]
  },
  {
   "cell_type": "markdown",
   "metadata": {},
   "source": [
    "# 3. Feature Engineering"
   ]
  },
  {
   "cell_type": "markdown",
   "metadata": {},
   "source": [
    "## 3.1 Generate user behaviour capsule (UBC) and new features"
   ]
  },
  {
   "cell_type": "markdown",
   "metadata": {},
   "source": [
    "Churn can be identified by the column `level`, which shows the current level of the user (whether 'paid' or 'free'), and the column `page`, which shows the pages the user visits. If a paid user visits 'Submit Downgrade' or 'Cancellation Confirmation', that means the users has churned. \n",
    "\n",
    "As discussed above, the investigation here focus on the categorize following two groups of users:\n",
    "- 1. paided user and churn the service \n",
    "- 2. paided user and does not churn the service\n",
    "\n",
    "For this purpose, I define the so-called \"user behaviour capsule\" for this two groups of users as below:\n",
    "- 1. from the first row of level \"paid\" to the first row of page 'Submit Downgrade' or 'Cancellation Confirmation'\n",
    "- 2. from the first row of level \"paid\" to the end of the data without churn\n",
    "\n",
    "The bahaviour of free user and their upgrade activities are not the focus in this project. For the users who have downgrades the service several times, only the first time is considered. \n",
    "\n",
    "To generate UBC, a function is defined below."
   ]
  },
  {
   "cell_type": "code",
   "execution_count": 26,
   "metadata": {},
   "outputs": [],
   "source": [
    "# sort the data according to `userId` and `ts`\n",
    "df_total = df_total.sort(['userId','ts'])\n",
    "\n",
    "# Generate the list of userIds\n",
    "\n",
    "userId_list = list(df_total.select('userId').distinct().toPandas().userId.values)\n",
    "\n",
    "\n",
    "# columns of the old data frame \n",
    "all_col = ['gender','length','level','page','registration','ts','userAgentNew','userId']\n",
    "\n",
    "# columns of the to generate data frame \n",
    "new_col = ['userId','PlayedTime','PaidTime','PlayNumber','PosEva','NegEva','Gender','Device','y']\n",
    "\n",
    "# schema of the to generate data frame \n",
    "schema = StructType([\n",
    "    StructField('userId', StringType(), True),\n",
    "    StructField('PlayedTime',IntegerType(), True),\n",
    "    StructField('PaidTime',IntegerType(), True), \n",
    "    StructField('PlayNumber',IntegerType(), True),\n",
    "    StructField('PosEva',IntegerType(), True),\n",
    "    StructField('NegEva',IntegerType(), True), \n",
    "    StructField('Gender',StringType(), True),\n",
    "    StructField('Device',StringType(),True),\n",
    "    StructField('y',IntegerType(),True)\n",
    "])\n",
    "\n",
    "df_ubc = spark.createDataFrame(data = '', schema = schema ).toDF(*new_col) # the empty dataframe to store the data\n",
    "df_ubc_list = [] # the empty list used to store data "
   ]
  },
  {
   "cell_type": "code",
   "execution_count": 28,
   "metadata": {},
   "outputs": [],
   "source": [
    "# Due to the disconnection setting of Udacity, I have to perform the calculation in two steps\n",
    "\n",
    "userId_length = len(userId_list)\n",
    "for userId in userId_list[0:int(userId_length/2)]:\n",
    "    \n",
    "    value_temp = []\n",
    "\n",
    "    stay_user = 0\n",
    "\n",
    "    df_temp_paid = df_total.select(*all_col).where((df_total.level == 'paid') & (df_total.userId == userId))\n",
    "\n",
    "    if len(df_temp_paid.head(1)) == 0:\n",
    "        # print(\"Free users\")\n",
    "        pass\n",
    "\n",
    "    else: \n",
    "        first_paid_time = df_temp_paid.take(1)[0].__getitem__('ts')\n",
    "\n",
    "        # NO Free users \n",
    "        churn_time = df_temp_paid.select(\"ts\").where((df_temp_paid.level == 'paid') & (df_temp_paid.page == 'Cancellation Confirmation')|(df_temp_paid.level == 'Submit Downgrade'))\n",
    "\n",
    "        if churn_time.head(1) == []:\n",
    "            # stay paid user \n",
    "            stay_user = 1\n",
    "            first_churn_time = df_temp_paid.select('ts').groupby().max().collect()[0].__getitem__('max(ts)')\n",
    "\n",
    "\n",
    "        else:\n",
    "            # churn paid user \n",
    "            first_churn_time = churn_time.take(1)[0].__getitem__('ts')\n",
    "\n",
    "        df_final = df_temp_paid.select(*all_col).where((df_temp_paid.ts >= first_paid_time) & (df_temp_paid.ts <= first_churn_time))\n",
    "\n",
    "        # add userId \n",
    "        value_temp.append(userId)\n",
    "\n",
    "        # add new column total played time \n",
    "        try:\n",
    "            value_temp.append(int(df_final.select('length').groupby().sum().collect()[0].__getitem__('sum(length)')))\n",
    "        except:\n",
    "            value_temp.append(None)\n",
    "\n",
    "        # total paid time   \n",
    "        try:\n",
    "            value_temp.append(int((df_final.select('ts').groupby().max().collect()[0].__getitem__('max(ts)')\\\n",
    "                                -df_final.select('registration').collect()[0].__getitem__('registration'))/3600/1000))\n",
    "        except:\n",
    "            value_temp.append(None)\n",
    "\n",
    "        # total played number\n",
    "        try:\n",
    "            value_temp.append(int(df_final.select('page').where(df_final.page == 'NextSong').groupby().count().collect()[0]\\\n",
    "                                .__getitem__('count')))\n",
    "        except:\n",
    "            value_temp.append(None)\n",
    "            \n",
    "        # add to list and thumb up\n",
    "        try: \n",
    "            value_temp.append(int(df_final.select('page').where((df_final.page == 'Add to Playlist')\\\n",
    "                                                            |(df_final.page == 'Thumbs Up')).\\\n",
    "                                groupby().count().collect()[0].__getitem__('count')))        \n",
    "        except: \n",
    "            value_temp.append(None)\n",
    "            \n",
    "        # negative evaluated\n",
    "        \n",
    "        try: \n",
    "            value_temp.append(int(df_final.select('page').where((df_final.page == 'Downgrade')\\\n",
    "                                                            |(df_final.page == 'Thumbs Down')\\\n",
    "                                                            |(df_final.page == 'Roll Advert')\\\n",
    "                                                            |(df_final.page == 'Cancel')).\\\n",
    "                                groupby().count().collect()[0].__getitem__('count')))          \n",
    "        except:\n",
    "            value_temp.append(None)\n",
    "            \n",
    "        # gender \n",
    "        value_temp.append(df_final.select('gender').collect()[0].__getitem__('gender'))\n",
    "\n",
    "        # device \n",
    "        value_temp.append(df_final.select('userAgentNew').collect()[0].__getitem__('userAgentNew'))\n",
    "\n",
    "        value_temp.append(stay_user)\n",
    "        \n",
    "        df_ubc_list.append(tuple(value_temp))\n"
   ]
  },
  {
   "cell_type": "code",
   "execution_count": 32,
   "metadata": {},
   "outputs": [],
   "source": [
    "# save temperory results \n",
    "\n",
    "import csv\n",
    "with open('df_ubc_totallist', 'w') as f: \n",
    "      \n",
    "    # using csv.writer method from CSV package \n",
    "    write = csv.writer(f) \n",
    "      \n",
    "    write.writerow(df_ubc_list) "
   ]
  },
  {
   "cell_type": "code",
   "execution_count": 33,
   "metadata": {},
   "outputs": [],
   "source": [
    "# run the second half \n",
    "\n",
    "for userId in userId_list[int(userId_length/2):-1]:\n",
    "    \n",
    "    value_temp = []\n",
    "\n",
    "    stay_user = 0\n",
    "\n",
    "    df_temp_paid = df_total.select(*all_col).where((df_total.level == 'paid') & (df_total.userId == userId))\n",
    "\n",
    "    if len(df_temp_paid.head(1)) == 0:\n",
    "        # print(\"Free users\")\n",
    "        pass\n",
    "\n",
    "    else: \n",
    "        first_paid_time = df_temp_paid.take(1)[0].__getitem__('ts')\n",
    "\n",
    "        # NO Free users \n",
    "        churn_time = df_temp_paid.select(\"ts\").where((df_temp_paid.level == 'paid') & (df_temp_paid.page == 'Cancellation Confirmation')|(df_temp_paid.level == 'Submit Downgrade'))\n",
    "\n",
    "        if churn_time.head(1) == []:\n",
    "            # stay paid user \n",
    "            stay_user = 1\n",
    "            first_churn_time = df_temp_paid.select('ts').groupby().max().collect()[0].__getitem__('max(ts)')\n",
    "\n",
    "\n",
    "        else:\n",
    "            # churn paid user \n",
    "            first_churn_time = churn_time.take(1)[0].__getitem__('ts')\n",
    "\n",
    "        df_final = df_temp_paid.select(*all_col).where((df_temp_paid.ts >= first_paid_time) & (df_temp_paid.ts <= first_churn_time))\n",
    "\n",
    "        # add userId \n",
    "        value_temp.append(userId)\n",
    "\n",
    "        # add new column total played time \n",
    "        try:\n",
    "            value_temp.append(int(df_final.select('length').groupby().sum().collect()[0].__getitem__('sum(length)')))\n",
    "        except:\n",
    "            value_temp.append(None)\n",
    "\n",
    "        # total paid time   \n",
    "        try:\n",
    "            value_temp.append(int((df_final.select('ts').groupby().max().collect()[0].__getitem__('max(ts)')\\\n",
    "                                -df_final.select('registration').collect()[0].__getitem__('registration'))/3600/1000))\n",
    "        except:\n",
    "            value_temp.append(None)\n",
    "\n",
    "        # total played number\n",
    "        try:\n",
    "            value_temp.append(int(df_final.select('page').where(df_final.page == 'NextSong').groupby().count().collect()[0]\\\n",
    "                                .__getitem__('count')))\n",
    "        except:\n",
    "            value_temp.append(None)\n",
    "            \n",
    "        # add to list and thumb up\n",
    "        try: \n",
    "            value_temp.append(int(df_final.select('page').where((df_final.page == 'Add to Playlist')\\\n",
    "                                                            |(df_final.page == 'Thumbs Up')).\\\n",
    "                                groupby().count().collect()[0].__getitem__('count')))        \n",
    "        except: \n",
    "            value_temp.append(None)\n",
    "            \n",
    "        # negative evaluated\n",
    "        \n",
    "        try: \n",
    "            value_temp.append(int(df_final.select('page').where((df_final.page == 'Downgrade')\\\n",
    "                                                            |(df_final.page == 'Thumbs Down')\\\n",
    "                                                            |(df_final.page == 'Roll Advert')\\\n",
    "                                                            |(df_final.page == 'Cancel')).\\\n",
    "                                groupby().count().collect()[0].__getitem__('count')))          \n",
    "        except:\n",
    "            value_temp.append(None)\n",
    "            \n",
    "        # gender \n",
    "        value_temp.append(df_final.select('gender').collect()[0].__getitem__('gender'))\n",
    "\n",
    "        # device \n",
    "        value_temp.append(df_final.select('userAgentNew').collect()[0].__getitem__('userAgentNew'))\n",
    "\n",
    "        value_temp.append(stay_user)\n",
    "        \n",
    "        df_ubc_list.append(tuple(value_temp))\n"
   ]
  },
  {
   "cell_type": "code",
   "execution_count": 36,
   "metadata": {},
   "outputs": [],
   "source": [
    "import csv\n",
    "with open('df_ubc_totallist', 'w') as f: \n",
    "      \n",
    "    # using csv.writer method from CSV package \n",
    "    write = csv.writer(f) \n",
    "      \n",
    "    write.writerow(df_ubc_list) "
   ]
  },
  {
   "cell_type": "code",
   "execution_count": 39,
   "metadata": {},
   "outputs": [
    {
     "name": "stdout",
     "output_type": "stream",
     "text": [
      "+------+----------+--------+----------+------+------+------+------+---+\n",
      "|userId|PlayedTime|PaidTime|PlayNumber|PosEva|NegEva|Gender|Device|  y|\n",
      "+------+----------+--------+----------+------+------+------+------+---+\n",
      "|200002|     72934|    1681|       300|    20|    10|     M|     m|  1|\n",
      "|   124|   1012312|    3157|      4079|   289|    86|     F|     m|  1|\n",
      "|    51|    523275|     466|      2111|   152|    45|     M|     w|  0|\n",
      "|    15|    477307|    1356|      1914|   140|    43|     M|     w|  1|\n",
      "|    54|    600432|    2658|      2402|   201|    64|     F|     w|  0|\n",
      "|   155|    174342|     565|       719|    72|    14|     F|     w|  1|\n",
      "|100014|     67703|    2042|       257|    24|     9|     M|     w|  0|\n",
      "|   132|    475673|    1605|      1900|   134|    38|     F|     m|  1|\n",
      "|   101|    433239|    1295|      1743|   144|    39|     M|     w|  0|\n",
      "|    11|     47660|    2987|       192|    16|     8|     F|     w|  1|\n",
      "|   138|    463125|    1599|      1868|   142|    47|     M|     m|  1|\n",
      "|300017|    897406|    1784|      3632|   416|    64|     F|     m|  1|\n",
      "|    29|    676516|    1442|      2715|   212|    47|     M|     m|  0|\n",
      "|    69|    279030|    1714|      1095|   103|    19|     F|     w|  1|\n",
      "|    42|    857297|    1610|      3474|   264|    62|     F|     w|  1|\n",
      "|    73|     90961|    1194|       365|    25|     9|     F|     w|  0|\n",
      "|    87|     34184|    1419|       136|     2|     3|     M|     w|  0|\n",
      "|     3|     54424|    1941|       214|    18|     7|     M|     w|  0|\n",
      "|   113|    380538|    2964|      1510|   127|    26|     F|     m|  1|\n",
      "|    30|    145731|    1513|       575|    43|    15|     M|     w|  1|\n",
      "+------+----------+--------+----------+------+------+------+------+---+\n",
      "only showing top 20 rows\n",
      "\n"
     ]
    }
   ],
   "source": [
    "df_ubc = df_ubc.union(spark.createDataFrame(data = df_ubc_list, schema = schema ).toDF(*new_col))\n",
    "# save to local \n",
    "df_ubc.write.format('json').save('./final/ubc.json')\n",
    "df_ubc.show()"
   ]
  },
  {
   "cell_type": "markdown",
   "metadata": {},
   "source": [
    "## 3.2 Study generated features"
   ]
  },
  {
   "cell_type": "markdown",
   "metadata": {},
   "source": [
    "### 3.2.1 `Gender`"
   ]
  },
  {
   "cell_type": "code",
   "execution_count": 43,
   "metadata": {},
   "outputs": [
    {
     "data": {
      "text/plain": [
       "Text(0.5,1,'Gender distribution in group \"Stay user\"')"
      ]
     },
     "execution_count": 43,
     "metadata": {},
     "output_type": "execute_result"
    },
    {
     "data": {
      "image/png": "[encoded data removed]",
      "text/plain": [
       "<matplotlib.figure.Figure at 0x7f2e94866a20>"
      ]
     },
     "metadata": {
      "needs_background": "light"
     },
     "output_type": "display_data"
    }
   ],
   "source": [
    "sns.barplot(['M','F'], [df_ubc.select('Gender').where((df_ubc.Gender =='M') & (df_ubc.y ==1)).count(),df_ubc.select('Gender').where((df_ubc.Gender =='F') & (df_ubc.y ==1)).count()])\n",
    "plt.title('Gender distribution in group \"Stay user\"')"
   ]
  },
  {
   "cell_type": "code",
   "execution_count": 44,
   "metadata": {},
   "outputs": [
    {
     "data": {
      "text/plain": [
       "Text(0.5,1,'Gender distribution in group \"Churn user\"')"
      ]
     },
     "execution_count": 44,
     "metadata": {},
     "output_type": "execute_result"
    },
    {
     "data": {
      "image/png": "[encoded data removed]",
      "text/plain": [
       "<matplotlib.figure.Figure at 0x7f2e9470d128>"
      ]
     },
     "metadata": {
      "needs_background": "light"
     },
     "output_type": "display_data"
    }
   ],
   "source": [
    "sns.barplot(['M','F'], [df_ubc.select('Gender').where((df_ubc.Gender =='M') & (df_ubc.y ==0)).count(),df_ubc.select('Gender').where((df_ubc.Gender =='F') & (df_ubc.y ==0)).count()])\n",
    "plt.title('Gender distribution in group \"Churn user\"')"
   ]
  },
  {
   "cell_type": "markdown",
   "metadata": {},
   "source": [
    "### 3.2.2 `Device`"
   ]
  },
  {
   "cell_type": "code",
   "execution_count": 45,
   "metadata": {},
   "outputs": [
    {
     "data": {
      "text/plain": [
       "Text(0.5,1,'Device distribution in group \"Stay user\"')"
      ]
     },
     "execution_count": 45,
     "metadata": {},
     "output_type": "execute_result"
    },
    {
     "data": {
      "image/png": "[encoded data removed]",
      "text/plain": [
       "<matplotlib.figure.Figure at 0x7f2e946b9ac8>"
      ]
     },
     "metadata": {
      "needs_background": "light"
     },
     "output_type": "display_data"
    }
   ],
   "source": [
    "sns.barplot(['Windows','Apple','linux'], [df_ubc.select('Device').where((df_ubc.Device =='w') & (df_ubc.y ==1)).count(), \\\n",
    "                                         df_ubc.select('Device').where((df_ubc.Device =='m') & (df_ubc.y ==1)).count(),\\\n",
    "                                         df_ubc.select('Device').where((df_ubc.Device =='l') & (df_ubc.y ==1)).count()])\n",
    "plt.title('Device distribution in group \"Stay user\"')"
   ]
  },
  {
   "cell_type": "code",
   "execution_count": 46,
   "metadata": {},
   "outputs": [
    {
     "data": {
      "text/plain": [
       "Text(0.5,1,'Device distribution in group \"Churn user\"')"
      ]
     },
     "execution_count": 46,
     "metadata": {},
     "output_type": "execute_result"
    },
    {
     "data": {
      "image/png": "[encoded data removed]",
      "text/plain": [
       "<matplotlib.figure.Figure at 0x7f2e946bcfd0>"
      ]
     },
     "metadata": {
      "needs_background": "light"
     },
     "output_type": "display_data"
    }
   ],
   "source": [
    "sns.barplot(['Windows','Apple','linux'], [df_ubc.select('Device').where((df_ubc.Device =='w') & (df_ubc.y ==0)).count(), \\\n",
    "                                         df_ubc.select('Device').where((df_ubc.Device =='m') & (df_ubc.y ==0)).count(),\\\n",
    "                                         df_ubc.select('Device').where((df_ubc.Device =='l') & (df_ubc.y ==0)).count()])\n",
    "plt.title('Device distribution in group \"Churn user\"')"
   ]
  },
  {
   "cell_type": "markdown",
   "metadata": {},
   "source": [
    "### 3.3.3 `PlayedTime`"
   ]
  },
  {
   "cell_type": "code",
   "execution_count": 142,
   "metadata": {},
   "outputs": [],
   "source": [
    "df_ubc = df_ubc.fillna(0)"
   ]
  },
  {
   "cell_type": "code",
   "execution_count": 143,
   "metadata": {},
   "outputs": [
    {
     "data": {
      "text/plain": [
       "<matplotlib.legend.Legend at 0x7f2e8c6093c8>"
      ]
     },
     "execution_count": 143,
     "metadata": {},
     "output_type": "execute_result"
    },
    {
     "data": {
      "image/png": "[encoded data removed]",
      "text/plain": [
       "<matplotlib.figure.Figure at 0x7f2e8c6bca20>"
      ]
     },
     "metadata": {
      "needs_background": "light"
     },
     "output_type": "display_data"
    }
   ],
   "source": [
    "# there is a None in the list, replace it with 0\n",
    "\n",
    "sns.distplot( [pt.PlayedTime for pt in df_ubc.select('PlayedTime').where(df_ubc.y == 1).collect()], label=\"Stay user\",kde = False)\n",
    "sns.distplot( [pt.PlayedTime for pt in df_ubc.select('PlayedTime').where(df_ubc.y == 0).collect()], label=\"Churn user\",kde = False)\n",
    "plt.legend()"
   ]
  },
  {
   "cell_type": "markdown",
   "metadata": {},
   "source": [
    "### 3.3.4 `PaidTime`"
   ]
  },
  {
   "cell_type": "code",
   "execution_count": 48,
   "metadata": {},
   "outputs": [
    {
     "data": {
      "text/plain": [
       "<matplotlib.legend.Legend at 0x7f2e945d4978>"
      ]
     },
     "execution_count": 48,
     "metadata": {},
     "output_type": "execute_result"
    },
    {
     "data": {
      "image/png": "[encoded data removed]",
      "text/plain": [
       "<matplotlib.figure.Figure at 0x7f2e94617588>"
      ]
     },
     "metadata": {
      "needs_background": "light"
     },
     "output_type": "display_data"
    }
   ],
   "source": [
    "sns.distplot( [pt.PaidTime for pt in df_ubc.select('PaidTime').where(df_ubc.y == 1).collect()], label=\"Stay user\",kde = False)\n",
    "sns.distplot( [pt.PaidTime for pt in df_ubc.select('PaidTime').where(df_ubc.y == 0).collect()], label=\"Churn user\",kde = False)\n",
    "plt.legend()"
   ]
  },
  {
   "cell_type": "markdown",
   "metadata": {},
   "source": [
    "### 3.3.5 `PlayedNumber`"
   ]
  },
  {
   "cell_type": "code",
   "execution_count": 49,
   "metadata": {},
   "outputs": [
    {
     "data": {
      "text/plain": [
       "<matplotlib.legend.Legend at 0x7f2e945787f0>"
      ]
     },
     "execution_count": 49,
     "metadata": {},
     "output_type": "execute_result"
    },
    {
     "data": {
      "image/png": "[encoded data removed]",
      "text/plain": [
       "<matplotlib.figure.Figure at 0x7f2e945efb38>"
      ]
     },
     "metadata": {
      "needs_background": "light"
     },
     "output_type": "display_data"
    }
   ],
   "source": [
    "sns.distplot( [pt.PlayNumber for pt in df_ubc.select('PlayNumber').where(df_ubc.y == 1).collect()], label=\"Stay user\",kde = False)\n",
    "sns.distplot( [pt.PlayNumber for pt in df_ubc.select('PlayNumber').where(df_ubc.y == 0).collect()], label=\"Churn user\",kde = False)\n",
    "plt.legend()"
   ]
  },
  {
   "cell_type": "markdown",
   "metadata": {},
   "source": [
    "### 3.3.6 PovEva"
   ]
  },
  {
   "cell_type": "code",
   "execution_count": 50,
   "metadata": {},
   "outputs": [
    {
     "data": {
      "text/plain": [
       "<matplotlib.legend.Legend at 0x7f2e94487f60>"
      ]
     },
     "execution_count": 50,
     "metadata": {},
     "output_type": "execute_result"
    },
    {
     "data": {
      "image/png": "[encoded data removed]",
      "text/plain": [
       "<matplotlib.figure.Figure at 0x7f2e9451ec88>"
      ]
     },
     "metadata": {
      "needs_background": "light"
     },
     "output_type": "display_data"
    }
   ],
   "source": [
    "sns.distplot( [pt.PosEva for pt in df_ubc.select('PosEva').where(df_ubc.y == 1).collect()], label=\"Stay user\",kde = False)\n",
    "sns.distplot( [pt.PosEva for pt in df_ubc.select('PosEva').where(df_ubc.y == 0).collect()], label=\"Churn user\",kde = False)\n",
    "plt.legend()"
   ]
  },
  {
   "cell_type": "markdown",
   "metadata": {},
   "source": [
    "### 3.3.7 NegEva"
   ]
  },
  {
   "cell_type": "code",
   "execution_count": 51,
   "metadata": {},
   "outputs": [
    {
     "data": {
      "text/plain": [
       "<matplotlib.legend.Legend at 0x7f2e94415e80>"
      ]
     },
     "execution_count": 51,
     "metadata": {},
     "output_type": "execute_result"
    },
    {
     "data": {
      "image/png": "[encoded data removed]",
      "text/plain": [
       "<matplotlib.figure.Figure at 0x7f2e94558470>"
      ]
     },
     "metadata": {
      "needs_background": "light"
     },
     "output_type": "display_data"
    }
   ],
   "source": [
    "sns.distplot( [pt.NegEva for pt in df_ubc.select('NegEva').where(df_ubc.y == 1).collect()], label=\"Stay user\",kde = False)\n",
    "sns.distplot( [pt.NegEva for pt in df_ubc.select('NegEva').where(df_ubc.y == 0).collect()], label=\"Churn user\",kde = False)\n",
    "plt.legend()"
   ]
  },
  {
   "cell_type": "markdown",
   "metadata": {},
   "source": [
    "# 4. Modeling"
   ]
  },
  {
   "cell_type": "markdown",
   "metadata": {},
   "source": [
    "#### manuel one hot encoder"
   ]
  },
  {
   "cell_type": "code",
   "execution_count": 116,
   "metadata": {},
   "outputs": [],
   "source": [
    "# man column\n",
    "functionf = udf(lambda x: 1 if x == 'M' else 0)\n",
    "df_ubc = df_ubc.withColumn('Gender_m', functionf(F.col('Gender')))\n",
    "\n",
    "# woman column\n",
    "functionf = udf(lambda x: 1 if x == 'F' else 0)\n",
    "df_ubc = df_ubc.withColumn('Gender_f', functionf(F.col('Gender')))\n",
    "\n",
    "# remove column gender\n",
    "df_ubc = df_ubc.drop('Gender')"
   ]
  },
  {
   "cell_type": "code",
   "execution_count": 117,
   "metadata": {},
   "outputs": [],
   "source": [
    "# w column\n",
    "functionf = udf(lambda x: 1 if x == 'w' else 0)\n",
    "df_ubc = df_ubc.withColumn('Device_w', functionf(F.col('Device')))\n",
    "\n",
    "# a column\n",
    "functionf = udf(lambda x: 1 if x == 'm' else 0)\n",
    "df_ubc = df_ubc.withColumn('Device_m', functionf(F.col('Device')))\n",
    "\n",
    "# l column\n",
    "functionf = udf(lambda x: 1 if x == 'l' else 0)\n",
    "df_ubc = df_ubc.withColumn('Device_l', functionf(F.col('Device')))\n",
    "\n",
    "# remove column gender\n",
    "df_ubc = df_ubc.drop('Device')"
   ]
  },
  {
   "cell_type": "code",
   "execution_count": 118,
   "metadata": {},
   "outputs": [],
   "source": [
    "# convert column type\n",
    "\n",
    "df_ubc = df_ubc.withColumn(\"userId\", df_ubc[\"userId\"].cast(IntegerType()))\n",
    "df_ubc = df_ubc.withColumn(\"Gender_m\", df_ubc[\"Gender_m\"].cast(IntegerType()))\n",
    "df_ubc = df_ubc.withColumn(\"Gender_f\", df_ubc[\"Gender_f\"].cast(IntegerType()))\n",
    "df_ubc = df_ubc.withColumn(\"Device_w\", df_ubc[\"Device_w\"].cast(IntegerType()))\n",
    "df_ubc = df_ubc.withColumn(\"Device_m\", df_ubc[\"Device_m\"].cast(IntegerType()))\n",
    "df_ubc = df_ubc.withColumn(\"Device_l\", df_ubc[\"Device_l\"].cast(IntegerType()))"
   ]
  },
  {
   "cell_type": "code",
   "execution_count": 119,
   "metadata": {},
   "outputs": [
    {
     "name": "stdout",
     "output_type": "stream",
     "text": [
      "+------+----------+--------+----------+------+------+---+--------+--------+--------+--------+--------+\n",
      "|userId|PlayedTime|PaidTime|PlayNumber|PosEva|NegEva|  y|Gender_m|Gender_f|Device_w|Device_m|Device_l|\n",
      "+------+----------+--------+----------+------+------+---+--------+--------+--------+--------+--------+\n",
      "|200002|     72934|    1681|       300|    20|    10|  1|       1|       0|       0|       1|       0|\n",
      "|   124|   1012312|    3157|      4079|   289|    86|  1|       0|       1|       0|       1|       0|\n",
      "|    51|    523275|     466|      2111|   152|    45|  0|       1|       0|       1|       0|       0|\n",
      "|    15|    477307|    1356|      1914|   140|    43|  1|       1|       0|       1|       0|       0|\n",
      "|    54|    600432|    2658|      2402|   201|    64|  0|       0|       1|       1|       0|       0|\n",
      "|   155|    174342|     565|       719|    72|    14|  1|       0|       1|       1|       0|       0|\n",
      "|100014|     67703|    2042|       257|    24|     9|  0|       1|       0|       1|       0|       0|\n",
      "|   132|    475673|    1605|      1900|   134|    38|  1|       0|       1|       0|       1|       0|\n",
      "|   101|    433239|    1295|      1743|   144|    39|  0|       1|       0|       1|       0|       0|\n",
      "|    11|     47660|    2987|       192|    16|     8|  1|       0|       1|       1|       0|       0|\n",
      "|   138|    463125|    1599|      1868|   142|    47|  1|       1|       0|       0|       1|       0|\n",
      "|300017|    897406|    1784|      3632|   416|    64|  1|       0|       1|       0|       1|       0|\n",
      "|    29|    676516|    1442|      2715|   212|    47|  0|       1|       0|       0|       1|       0|\n",
      "|    69|    279030|    1714|      1095|   103|    19|  1|       0|       1|       1|       0|       0|\n",
      "|    42|    857297|    1610|      3474|   264|    62|  1|       0|       1|       1|       0|       0|\n",
      "|    73|     90961|    1194|       365|    25|     9|  0|       0|       1|       1|       0|       0|\n",
      "|    87|     34184|    1419|       136|     2|     3|  0|       1|       0|       1|       0|       0|\n",
      "|     3|     54424|    1941|       214|    18|     7|  0|       1|       0|       1|       0|       0|\n",
      "|   113|    380538|    2964|      1510|   127|    26|  1|       0|       1|       0|       1|       0|\n",
      "|    30|    145731|    1513|       575|    43|    15|  1|       1|       0|       1|       0|       0|\n",
      "+------+----------+--------+----------+------+------+---+--------+--------+--------+--------+--------+\n",
      "only showing top 20 rows\n",
      "\n"
     ]
    }
   ],
   "source": [
    "df_ubc.show()"
   ]
  },
  {
   "cell_type": "code",
   "execution_count": 144,
   "metadata": {},
   "outputs": [],
   "source": [
    "from pyspark.ml import Pipeline\n",
    "from pyspark.ml.feature import StringIndexer, OneHotEncoder, StandardScaler,VectorAssembler\n",
    "from pyspark.ml.classification import LogisticRegression\n",
    "from pyspark.ml.tuning import CrossValidator, ParamGridBuilder\n",
    "from pyspark.ml.evaluation import BinaryClassificationEvaluator\n",
    "\n",
    "rest, validation = df_ubc.randomSplit([0.7, 0.3], seed=42)\n",
    "\n",
    "\n",
    "input_col = ['userId','PlayedTime','PaidTime','PlayNumber','PosEva','NegEva','Gender_m','Gender_f','Device_w','Device_m','Device_l']\n",
    "vecAssembler = VectorAssembler(inputCols=input_col, outputCol= \"features\")\n",
    "stringIndexer = StringIndexer(inputCol=\"y\", outputCol=\"label\")\n",
    "\n",
    "lr =  LogisticRegression(maxIter=10, regParam=0.0, elasticNetParam=0)\n",
    "pipeline = Pipeline(stages=[vecAssembler,stringIndexer,lr])\n",
    "\n",
    "paramGrid = ParamGridBuilder().addGrid(lr.regParam,[0.0, 0.1]).build()\n",
    "\n",
    "crossval = CrossValidator(estimator=pipeline,\n",
    "                          estimatorParamMaps=paramGrid,\n",
    "                          evaluator=BinaryClassificationEvaluator(),\n",
    "                          numFolds=3)\n",
    "\n",
    "cvModel_q1 = crossval.fit(rest)\n",
    "predict_df = cvModel_q1.transform(validation)\n"
   ]
  },
  {
   "cell_type": "code",
   "execution_count": 145,
   "metadata": {},
   "outputs": [
    {
     "data": {
      "text/plain": [
       "[0.6552706552706553, 0.6966096866096867]"
      ]
     },
     "execution_count": 145,
     "metadata": {},
     "output_type": "execute_result"
    }
   ],
   "source": [
    "cvModel_q1.avgMetrics"
   ]
  },
  {
   "cell_type": "code",
   "execution_count": 148,
   "metadata": {},
   "outputs": [],
   "source": [
    "results = cvModel_q1.transform(validation)"
   ]
  },
  {
   "cell_type": "code",
   "execution_count": 151,
   "metadata": {},
   "outputs": [
    {
     "name": "stdout",
     "output_type": "stream",
     "text": [
      "0.8253968253968254\n"
     ]
    }
   ],
   "source": [
    "print(results.filter(results.label == results.prediction).count() / results.count())"
   ]
  }
 ],
 "metadata": {
  "kernelspec": {
   "display_name": "Python 3",
   "language": "python",
   "name": "python3"
  },
  "language_info": {
   "codemirror_mode": {
    "name": "ipython",
    "version": 3
   },
   "file_extension": ".py",
   "mimetype": "text/x-python",
   "name": "python",
   "nbconvert_exporter": "python",
   "pygments_lexer": "ipython3",
   "version": "3.6.3"
  }
 },
 "nbformat": 4,
 "nbformat_minor": 2
}
